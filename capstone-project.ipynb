{
    "cells": [
        {
            "cell_type": "markdown",
            "metadata": {},
            "source": "# Capstone project - severity of car accidents in Catalonia between 2010 and 2020"
        },
        {
            "cell_type": "markdown",
            "metadata": {},
            "source": "## Contents\n* [1. Introduction](#introduction)\n* [2. Data](#data)"
        },
        {
            "cell_type": "markdown",
            "metadata": {},
            "source": "## 1. Introduction <a name='introduction'></a>"
        },
        {
            "cell_type": "markdown",
            "metadata": {},
            "source": "Traffic accidents, little instants in which the life can change, and in some occasions, end; year by year thousands of lives are lost due this terrible incidents which can be caused for the most insignificant reasons, as animals on the way or a distraction while driving.\nThere is not a unique reason for the traffic accidents, the causes are too diverse and there are so many factors intervening at the same time that every case needs to be evaluated in detail in order to find all the hidden answers, answers which can be founded on the driver, the speed, the weather, etc.\nOn this project we\u2019ll find the correlation between the specific factors and the severity of the accidents, understanding severity as the amount of human lives lost on the collision, for this we\u2019ll need a dataset in which all the different conditions present on the moment of the incident are signed."
        },
        {
            "cell_type": "markdown",
            "metadata": {},
            "source": "## 2. Data <a name='data'></a>"
        },
        {
            "cell_type": "markdown",
            "metadata": {},
            "source": "For this project we will use:\n\n* The dataset \"Accidents de tr\u00e0nsit amb morts o ferits greus a Catalunya\" wich reports all the traffic incidets reported on Catalonya on the period 2010-2020 with the details about weather conditions, road conditions and number of casualties, the data set can be found on the link \u201chttps://analisi.transparenciacatalunya.cat/Transport/Accidents-de-tr-nsit-amb-morts-o-ferits-greus-a-Ca/rmgc-ncpb\u201d.\n* On addition we\u2019ll also use the Leaflet API in order to make an approach to the geographic characteristics of the zones with the biggest amount of accidents and determine if there is a correlation between the distance to big cities and the number or severity of car accidents.\n"
        },
        {
            "cell_type": "code",
            "execution_count": 3,
            "metadata": {},
            "outputs": [],
            "source": "# Import main libraries\nimport pandas as pd\nimport numpy as np"
        },
        {
            "cell_type": "code",
            "execution_count": 1,
            "metadata": {},
            "outputs": [
                {
                    "name": "stdout",
                    "output_type": "stream",
                    "text": "--2020-08-31 12:39:39--  https://analisi.transparenciacatalunya.cat/resource/rmgc-ncpb.csv\nResolving analisi.transparenciacatalunya.cat (analisi.transparenciacatalunya.cat)... 52.16.222.96, 52.16.175.47, 52.51.221.164\nConnecting to analisi.transparenciacatalunya.cat (analisi.transparenciacatalunya.cat)|52.16.222.96|:443... connected.\nHTTP request sent, awaiting response... 200 OK\nLength: unspecified [text/csv]\nSaving to: \u2018traffic_accidents.csv\u2019\n\n    [   <=>                                 ] 614,365     1.19MB/s   in 0.5s   \n\n2020-08-31 12:39:42 (1.19 MB/s) - \u2018traffic_accidents.csv\u2019 saved [614365]\n\n"
                }
            ],
            "source": "# get the data\n!wget -O traffic_accidents.csv https://analisi.transparenciacatalunya.cat/resource/rmgc-ncpb.csv"
        },
        {
            "cell_type": "code",
            "execution_count": 6,
            "metadata": {},
            "outputs": [
                {
                    "data": {
                        "text/html": "<div>\n<style scoped>\n    .dataframe tbody tr th:only-of-type {\n        vertical-align: middle;\n    }\n\n    .dataframe tbody tr th {\n        vertical-align: top;\n    }\n\n    .dataframe thead th {\n        text-align: right;\n    }\n</style>\n<table border=\"1\" class=\"dataframe\">\n  <thead>\n    <tr style=\"text-align: right;\">\n      <th></th>\n      <th>any</th>\n      <th>zona</th>\n      <th>dat</th>\n      <th>via</th>\n      <th>pk</th>\n      <th>nommun</th>\n      <th>nomcom</th>\n      <th>nomdem</th>\n      <th>f_morts</th>\n      <th>f_ferits_greus</th>\n      <th>...</th>\n      <th>d_superficie</th>\n      <th>d_tipus_via</th>\n      <th>d_titularitat_via</th>\n      <th>d_tracat_altimetric</th>\n      <th>d_vent</th>\n      <th>grupdialab</th>\n      <th>hor</th>\n      <th>gruphor</th>\n      <th>tipacc</th>\n      <th>tipdia</th>\n    </tr>\n  </thead>\n  <tbody>\n    <tr>\n      <th>0</th>\n      <td>2010</td>\n      <td>Zona urbana</td>\n      <td>2010-01-25T23:33:00.000</td>\n      <td>SE</td>\n      <td>999999</td>\n      <td>CANOVES I SAMALUS</td>\n      <td>Valles Oriental</td>\n      <td>Barcelona</td>\n      <td>0</td>\n      <td>1</td>\n      <td>...</td>\n      <td>Sec i net</td>\n      <td>Via urbana( inclou carrer i carrer residencial)</td>\n      <td>NaN</td>\n      <td>NaN</td>\n      <td>Calma, vent molt suau</td>\n      <td>Feiners</td>\n      <td>2333</td>\n      <td>Nit</td>\n      <td>Col.lisi\u00f3 de vehicles en marxa</td>\n      <td>dill-dij</td>\n    </tr>\n    <tr>\n      <th>1</th>\n      <td>2010</td>\n      <td>Carretera</td>\n      <td>2010-10-31T01:00:00.000</td>\n      <td>N-240</td>\n      <td>999</td>\n      <td>LLEIDA</td>\n      <td>Segria</td>\n      <td>Lleida</td>\n      <td>0</td>\n      <td>1</td>\n      <td>...</td>\n      <td>Sec i net</td>\n      <td>Carretera convencional</td>\n      <td>Estatal</td>\n      <td>Pla</td>\n      <td>Calma, vent molt suau</td>\n      <td>CapDeSetmana</td>\n      <td>1</td>\n      <td>Nit</td>\n      <td>Sortida de la calcada sense especificar</td>\n      <td>dg</td>\n    </tr>\n    <tr>\n      <th>2</th>\n      <td>2010</td>\n      <td>Carretera</td>\n      <td>2010-05-17T15:27:00.000</td>\n      <td>N-II</td>\n      <td>7087</td>\n      <td>FORNELLS DE LA SELVA</td>\n      <td>Girones</td>\n      <td>Girona</td>\n      <td>1</td>\n      <td>0</td>\n      <td>...</td>\n      <td>Sec i net</td>\n      <td>Carretera convencional</td>\n      <td>Estatal</td>\n      <td>Rampa o pendent</td>\n      <td>Calma, vent molt suau</td>\n      <td>Feiners</td>\n      <td>1527</td>\n      <td>Tarda</td>\n      <td>Col.lisi\u00f3 de vehicles en marxa</td>\n      <td>dill-dij</td>\n    </tr>\n    <tr>\n      <th>3</th>\n      <td>2010</td>\n      <td>Zona urbana</td>\n      <td>2010-08-21T22:30:00.000</td>\n      <td>SE</td>\n      <td>999999</td>\n      <td>BARCELONA</td>\n      <td>Barcelones</td>\n      <td>Barcelona</td>\n      <td>0</td>\n      <td>2</td>\n      <td>...</td>\n      <td>Sec i net</td>\n      <td>Via urbana( inclou carrer i carrer residencial)</td>\n      <td>NaN</td>\n      <td>NaN</td>\n      <td>Calma, vent molt suau</td>\n      <td>CapDeSetmana</td>\n      <td>223</td>\n      <td>Nit</td>\n      <td>Col.lisi\u00f3 de vehicles en marxa</td>\n      <td>dis</td>\n    </tr>\n    <tr>\n      <th>4</th>\n      <td>2010</td>\n      <td>Zona urbana</td>\n      <td>2010-05-07T17:45:00.000</td>\n      <td>SE</td>\n      <td>999999</td>\n      <td>BADALONA</td>\n      <td>Barcelones</td>\n      <td>Barcelona</td>\n      <td>0</td>\n      <td>1</td>\n      <td>...</td>\n      <td>Sec i net</td>\n      <td>Via urbana( inclou carrer i carrer residencial)</td>\n      <td>NaN</td>\n      <td>NaN</td>\n      <td>Calma, vent molt suau</td>\n      <td>CapDeSetmana</td>\n      <td>1745</td>\n      <td>Tarda</td>\n      <td>Bolcada a la calcada</td>\n      <td>div</td>\n    </tr>\n  </tbody>\n</table>\n<p>5 rows \u00d7 58 columns</p>\n</div>",
                        "text/plain": "    any         zona                      dat    via      pk  \\\n0  2010  Zona urbana  2010-01-25T23:33:00.000     SE  999999   \n1  2010    Carretera  2010-10-31T01:00:00.000  N-240     999   \n2  2010    Carretera  2010-05-17T15:27:00.000   N-II    7087   \n3  2010  Zona urbana  2010-08-21T22:30:00.000     SE  999999   \n4  2010  Zona urbana  2010-05-07T17:45:00.000     SE  999999   \n\n                 nommun           nomcom     nomdem  f_morts  f_ferits_greus  \\\n0     CANOVES I SAMALUS  Valles Oriental  Barcelona        0               1   \n1                LLEIDA           Segria     Lleida        0               1   \n2  FORNELLS DE LA SELVA          Girones     Girona        1               0   \n3             BARCELONA       Barcelones  Barcelona        0               2   \n4              BADALONA       Barcelones  Barcelona        0               1   \n\n   ...  d_superficie                                      d_tipus_via  \\\n0  ...     Sec i net  Via urbana( inclou carrer i carrer residencial)   \n1  ...     Sec i net                           Carretera convencional   \n2  ...     Sec i net                           Carretera convencional   \n3  ...     Sec i net  Via urbana( inclou carrer i carrer residencial)   \n4  ...     Sec i net  Via urbana( inclou carrer i carrer residencial)   \n\n   d_titularitat_via  d_tracat_altimetric                 d_vent  \\\n0                NaN                  NaN  Calma, vent molt suau   \n1            Estatal                  Pla  Calma, vent molt suau   \n2            Estatal      Rampa o pendent  Calma, vent molt suau   \n3                NaN                  NaN  Calma, vent molt suau   \n4                NaN                  NaN  Calma, vent molt suau   \n\n     grupdialab   hor  gruphor                                   tipacc  \\\n0       Feiners  2333      Nit           Col.lisi\u00f3 de vehicles en marxa   \n1  CapDeSetmana     1      Nit  Sortida de la calcada sense especificar   \n2       Feiners  1527    Tarda           Col.lisi\u00f3 de vehicles en marxa   \n3  CapDeSetmana   223      Nit           Col.lisi\u00f3 de vehicles en marxa   \n4  CapDeSetmana  1745    Tarda                     Bolcada a la calcada   \n\n     tipdia  \n0  dill-dij  \n1        dg  \n2  dill-dij  \n3       dis  \n4       div  \n\n[5 rows x 58 columns]"
                    },
                    "execution_count": 6,
                    "metadata": {},
                    "output_type": "execute_result"
                }
            ],
            "source": "df = pd.read_csv('traffic_accidents.csv')\ndf.head()"
        },
        {
            "cell_type": "code",
            "execution_count": null,
            "metadata": {},
            "outputs": [],
            "source": ""
        }
    ],
    "metadata": {
        "kernelspec": {
            "display_name": "Python 3.6",
            "language": "python",
            "name": "python3"
        },
        "language_info": {
            "codemirror_mode": {
                "name": "ipython",
                "version": 3
            },
            "file_extension": ".py",
            "mimetype": "text/x-python",
            "name": "python",
            "nbconvert_exporter": "python",
            "pygments_lexer": "ipython3",
            "version": "3.6.9"
        }
    },
    "nbformat": 4,
    "nbformat_minor": 4
}