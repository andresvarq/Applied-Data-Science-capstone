{
    "cells": [
        {
            "cell_type": "markdown",
            "metadata": {},
            "source": "# Capstone project - severity of car accidents in Catalonia between 2010 and 2020"
        },
        {
            "cell_type": "markdown",
            "metadata": {},
            "source": "## Contents\n* [1. Introduction](#introduction)\n* [2. Data](#data)\n  * [2.1. Data Importing](#di)\n  * [2.2. Data Cleaning](#dc)"
        },
        {
            "cell_type": "markdown",
            "metadata": {},
            "source": "## 1. Introduction <a name='introduction'></a>"
        },
        {
            "cell_type": "markdown",
            "metadata": {},
            "source": "Traffic accidents, little instants in which the life can change, and in some occasions, end; year by year thousands of lives are lost due this terrible incidents which can be caused for the most insignificant reasons, as animals on the way or a distraction while driving.\nThere is not a unique reason for the traffic accidents, the causes are too diverse and there are so many factors intervening at the same time that every case needs to be evaluated in detail in order to find all the hidden answers, answers which can be founded on the driver, the speed, the weather, etc.\nOn this project we\u2019ll find the correlation between the specific factors and the severity of the accidents, understanding severity as the amount of human lives lost on the collision, for this we\u2019ll need a dataset in which all the different conditions present on the moment of the incident are signed."
        },
        {
            "cell_type": "markdown",
            "metadata": {},
            "source": "## 2. Data <a name='data'></a>"
        },
        {
            "cell_type": "markdown",
            "metadata": {},
            "source": "For this project we will use the dataset \"Accidents de tr\u00e0nsit amb morts o ferits greus a Catalunya\" wich reports all the traffic incidets reported on Catalonya on the period 2010-2020 with the details about weather conditions, road conditions and number of casualties, the data set can be found on the web page of Catalonia government open data \u201chttps://analisi.transparenciacatalunya.cat/Transport/Accidents-de-tr-nsit-amb-morts-o-ferits-greus-a-Ca/rmgc-ncpb\u201d. On this open source dataset we'll find all the information related to the accidents and the different condtions that affected it."
        },
        {
            "cell_type": "markdown",
            "metadata": {},
            "source": "###  2.1. Data Importing <a name='di'></a>"
        },
        {
            "cell_type": "code",
            "execution_count": 1,
            "metadata": {
                "scrolled": true
            },
            "outputs": [],
            "source": "# Import main libraries\nimport pandas as pd\nimport numpy as np"
        },
        {
            "cell_type": "code",
            "execution_count": 2,
            "metadata": {},
            "outputs": [
                {
                    "name": "stdout",
                    "output_type": "stream",
                    "text": "--2020-09-06 09:41:48--  https://analisi.transparenciacatalunya.cat/resource/rmgc-ncpb.csv\nResolving analisi.transparenciacatalunya.cat (analisi.transparenciacatalunya.cat)... 52.16.175.47, 52.16.222.96, 52.51.221.164\nConnecting to analisi.transparenciacatalunya.cat (analisi.transparenciacatalunya.cat)|52.16.175.47|:443... connected.\nHTTP request sent, awaiting response... 200 OK\nLength: unspecified [text/csv]\nSaving to: \u2018traffic_accidents.csv\u2019\n\n    [   <=>                                 ] 614,365     1.18MB/s   in 0.5s   \n\n2020-09-06 09:41:50 (1.18 MB/s) - \u2018traffic_accidents.csv\u2019 saved [614365]\n\n"
                }
            ],
            "source": "# get the data\n!wget -O traffic_accidents.csv https://analisi.transparenciacatalunya.cat/resource/rmgc-ncpb.csv"
        },
        {
            "cell_type": "code",
            "execution_count": 3,
            "metadata": {},
            "outputs": [
                {
                    "data": {
                        "text/html": "<div>\n<style scoped>\n    .dataframe tbody tr th:only-of-type {\n        vertical-align: middle;\n    }\n\n    .dataframe tbody tr th {\n        vertical-align: top;\n    }\n\n    .dataframe thead th {\n        text-align: right;\n    }\n</style>\n<table border=\"1\" class=\"dataframe\">\n  <thead>\n    <tr style=\"text-align: right;\">\n      <th></th>\n      <th>any</th>\n      <th>zona</th>\n      <th>dat</th>\n      <th>via</th>\n      <th>pk</th>\n      <th>nommun</th>\n      <th>nomcom</th>\n      <th>nomdem</th>\n      <th>f_morts</th>\n      <th>f_ferits_greus</th>\n      <th>...</th>\n      <th>d_superficie</th>\n      <th>d_tipus_via</th>\n      <th>d_titularitat_via</th>\n      <th>d_tracat_altimetric</th>\n      <th>d_vent</th>\n      <th>grupdialab</th>\n      <th>hor</th>\n      <th>gruphor</th>\n      <th>tipacc</th>\n      <th>tipdia</th>\n    </tr>\n  </thead>\n  <tbody>\n    <tr>\n      <th>0</th>\n      <td>2010</td>\n      <td>Zona urbana</td>\n      <td>2010-01-25T23:33:00.000</td>\n      <td>SE</td>\n      <td>999999</td>\n      <td>CANOVES I SAMALUS</td>\n      <td>Valles Oriental</td>\n      <td>Barcelona</td>\n      <td>0</td>\n      <td>1</td>\n      <td>...</td>\n      <td>Sec i net</td>\n      <td>Via urbana( inclou carrer i carrer residencial)</td>\n      <td>NaN</td>\n      <td>NaN</td>\n      <td>Calma, vent molt suau</td>\n      <td>Feiners</td>\n      <td>2333</td>\n      <td>Nit</td>\n      <td>Col.lisi\u00f3 de vehicles en marxa</td>\n      <td>dill-dij</td>\n    </tr>\n    <tr>\n      <th>1</th>\n      <td>2010</td>\n      <td>Carretera</td>\n      <td>2010-10-31T01:00:00.000</td>\n      <td>N-240</td>\n      <td>999</td>\n      <td>LLEIDA</td>\n      <td>Segria</td>\n      <td>Lleida</td>\n      <td>0</td>\n      <td>1</td>\n      <td>...</td>\n      <td>Sec i net</td>\n      <td>Carretera convencional</td>\n      <td>Estatal</td>\n      <td>Pla</td>\n      <td>Calma, vent molt suau</td>\n      <td>CapDeSetmana</td>\n      <td>1</td>\n      <td>Nit</td>\n      <td>Sortida de la calcada sense especificar</td>\n      <td>dg</td>\n    </tr>\n    <tr>\n      <th>2</th>\n      <td>2010</td>\n      <td>Carretera</td>\n      <td>2010-05-17T15:27:00.000</td>\n      <td>N-II</td>\n      <td>7087</td>\n      <td>FORNELLS DE LA SELVA</td>\n      <td>Girones</td>\n      <td>Girona</td>\n      <td>1</td>\n      <td>0</td>\n      <td>...</td>\n      <td>Sec i net</td>\n      <td>Carretera convencional</td>\n      <td>Estatal</td>\n      <td>Rampa o pendent</td>\n      <td>Calma, vent molt suau</td>\n      <td>Feiners</td>\n      <td>1527</td>\n      <td>Tarda</td>\n      <td>Col.lisi\u00f3 de vehicles en marxa</td>\n      <td>dill-dij</td>\n    </tr>\n    <tr>\n      <th>3</th>\n      <td>2010</td>\n      <td>Zona urbana</td>\n      <td>2010-08-21T22:30:00.000</td>\n      <td>SE</td>\n      <td>999999</td>\n      <td>BARCELONA</td>\n      <td>Barcelones</td>\n      <td>Barcelona</td>\n      <td>0</td>\n      <td>2</td>\n      <td>...</td>\n      <td>Sec i net</td>\n      <td>Via urbana( inclou carrer i carrer residencial)</td>\n      <td>NaN</td>\n      <td>NaN</td>\n      <td>Calma, vent molt suau</td>\n      <td>CapDeSetmana</td>\n      <td>223</td>\n      <td>Nit</td>\n      <td>Col.lisi\u00f3 de vehicles en marxa</td>\n      <td>dis</td>\n    </tr>\n    <tr>\n      <th>4</th>\n      <td>2010</td>\n      <td>Zona urbana</td>\n      <td>2010-05-07T17:45:00.000</td>\n      <td>SE</td>\n      <td>999999</td>\n      <td>BADALONA</td>\n      <td>Barcelones</td>\n      <td>Barcelona</td>\n      <td>0</td>\n      <td>1</td>\n      <td>...</td>\n      <td>Sec i net</td>\n      <td>Via urbana( inclou carrer i carrer residencial)</td>\n      <td>NaN</td>\n      <td>NaN</td>\n      <td>Calma, vent molt suau</td>\n      <td>CapDeSetmana</td>\n      <td>1745</td>\n      <td>Tarda</td>\n      <td>Bolcada a la calcada</td>\n      <td>div</td>\n    </tr>\n  </tbody>\n</table>\n<p>5 rows \u00d7 58 columns</p>\n</div>",
                        "text/plain": "    any         zona                      dat    via      pk  \\\n0  2010  Zona urbana  2010-01-25T23:33:00.000     SE  999999   \n1  2010    Carretera  2010-10-31T01:00:00.000  N-240     999   \n2  2010    Carretera  2010-05-17T15:27:00.000   N-II    7087   \n3  2010  Zona urbana  2010-08-21T22:30:00.000     SE  999999   \n4  2010  Zona urbana  2010-05-07T17:45:00.000     SE  999999   \n\n                 nommun           nomcom     nomdem  f_morts  f_ferits_greus  \\\n0     CANOVES I SAMALUS  Valles Oriental  Barcelona        0               1   \n1                LLEIDA           Segria     Lleida        0               1   \n2  FORNELLS DE LA SELVA          Girones     Girona        1               0   \n3             BARCELONA       Barcelones  Barcelona        0               2   \n4              BADALONA       Barcelones  Barcelona        0               1   \n\n   ...  d_superficie                                      d_tipus_via  \\\n0  ...     Sec i net  Via urbana( inclou carrer i carrer residencial)   \n1  ...     Sec i net                           Carretera convencional   \n2  ...     Sec i net                           Carretera convencional   \n3  ...     Sec i net  Via urbana( inclou carrer i carrer residencial)   \n4  ...     Sec i net  Via urbana( inclou carrer i carrer residencial)   \n\n   d_titularitat_via  d_tracat_altimetric                 d_vent  \\\n0                NaN                  NaN  Calma, vent molt suau   \n1            Estatal                  Pla  Calma, vent molt suau   \n2            Estatal      Rampa o pendent  Calma, vent molt suau   \n3                NaN                  NaN  Calma, vent molt suau   \n4                NaN                  NaN  Calma, vent molt suau   \n\n     grupdialab   hor  gruphor                                   tipacc  \\\n0       Feiners  2333      Nit           Col.lisi\u00f3 de vehicles en marxa   \n1  CapDeSetmana     1      Nit  Sortida de la calcada sense especificar   \n2       Feiners  1527    Tarda           Col.lisi\u00f3 de vehicles en marxa   \n3  CapDeSetmana   223      Nit           Col.lisi\u00f3 de vehicles en marxa   \n4  CapDeSetmana  1745    Tarda                     Bolcada a la calcada   \n\n     tipdia  \n0  dill-dij  \n1        dg  \n2  dill-dij  \n3       dis  \n4       div  \n\n[5 rows x 58 columns]"
                    },
                    "execution_count": 3,
                    "metadata": {},
                    "output_type": "execute_result"
                }
            ],
            "source": "# Define the dataframe\ndf = pd.read_csv('traffic_accidents.csv')\ndf.head()"
        },
        {
            "cell_type": "code",
            "execution_count": 4,
            "metadata": {},
            "outputs": [
                {
                    "data": {
                        "text/plain": "any                            int64\nzona                          object\ndat                           object\nvia                           object\npk                             int64\nnommun                        object\nnomcom                        object\nnomdem                        object\nf_morts                        int64\nf_ferits_greus                 int64\nf_ferits_lleus                 int64\nf_victimes                     int64\nf_unitats_implicades           int64\nf_vianants_implicades          int64\nf_bicicletes_implicades        int64\nf_ciclomotors_implicades       int64\nf_motocicletes_implicades      int64\nf_veh_lleugers_implicades      int64\nf_veh_pesants_implicades       int64\nf_altres_unit_implicades       int64\nf_unit_desc_implicades         int64\nc_velocitat_via              float64\nd_acc_amb_fuga                object\nd_boira                       object\nd_caract_entorn               object\nd_carril_especial             object\nd_circulacio_mesures_esp      object\nd_climatologia                object\nd_func_esp_via                object\nd_gravetat                    object\nd_influit_boira               object\nd_influit_caract_entorn       object\nd_influit_circulacio          object\nd_influit_estat_clima         object\nd_influit_inten_vent          object\nd_influit_lluminositat        object\nd_influit_mesu_esp            object\nd_influit_obj_calcada         object\nd_influit_solcs_rases         object\nd_influit_visibilitat         object\nd_inter_seccio                object\nd_limit_velocitat             object\nd_lluminositat                object\nd_regulacio_prioritat         object\nd_sentits_via                 object\nd_subtipus_accident           object\nd_subtipus_tram               object\nd_subzona                     object\nd_superficie                  object\nd_tipus_via                   object\nd_titularitat_via             object\nd_tracat_altimetric           object\nd_vent                        object\ngrupdialab                    object\nhor                            int64\ngruphor                       object\ntipacc                        object\ntipdia                        object\ndtype: object"
                    },
                    "execution_count": 4,
                    "metadata": {},
                    "output_type": "execute_result"
                }
            ],
            "source": "# Display the type of data in the columns\ndf.dtypes"
        },
        {
            "cell_type": "code",
            "execution_count": 5,
            "metadata": {},
            "outputs": [
                {
                    "data": {
                        "text/html": "<div>\n<style scoped>\n    .dataframe tbody tr th:only-of-type {\n        vertical-align: middle;\n    }\n\n    .dataframe tbody tr th {\n        vertical-align: top;\n    }\n\n    .dataframe thead th {\n        text-align: right;\n    }\n</style>\n<table border=\"1\" class=\"dataframe\">\n  <thead>\n    <tr style=\"text-align: right;\">\n      <th></th>\n      <th>any</th>\n      <th>pk</th>\n      <th>f_morts</th>\n      <th>f_ferits_greus</th>\n      <th>f_ferits_lleus</th>\n      <th>f_victimes</th>\n      <th>f_unitats_implicades</th>\n      <th>f_vianants_implicades</th>\n      <th>f_bicicletes_implicades</th>\n      <th>f_ciclomotors_implicades</th>\n      <th>f_motocicletes_implicades</th>\n      <th>f_veh_lleugers_implicades</th>\n      <th>f_veh_pesants_implicades</th>\n      <th>f_altres_unit_implicades</th>\n      <th>f_unit_desc_implicades</th>\n      <th>c_velocitat_via</th>\n      <th>hor</th>\n    </tr>\n  </thead>\n  <tbody>\n    <tr>\n      <th>count</th>\n      <td>1000.0</td>\n      <td>1000.000000</td>\n      <td>1000.000000</td>\n      <td>1000.000000</td>\n      <td>1000.000000</td>\n      <td>1000.000000</td>\n      <td>1000.000000</td>\n      <td>1000.000000</td>\n      <td>1000.000000</td>\n      <td>1000.000000</td>\n      <td>1000.000000</td>\n      <td>1000.000000</td>\n      <td>1000.000000</td>\n      <td>1000.000000</td>\n      <td>1000.0</td>\n      <td>879.000000</td>\n      <td>1000.000000</td>\n    </tr>\n    <tr>\n      <th>mean</th>\n      <td>2010.0</td>\n      <td>572623.259000</td>\n      <td>0.183000</td>\n      <td>1.024000</td>\n      <td>0.515000</td>\n      <td>1.722000</td>\n      <td>2.037000</td>\n      <td>0.270000</td>\n      <td>0.064000</td>\n      <td>0.130000</td>\n      <td>0.331000</td>\n      <td>1.060000</td>\n      <td>0.163000</td>\n      <td>0.019000</td>\n      <td>0.0</td>\n      <td>87.042093</td>\n      <td>840.776000</td>\n    </tr>\n    <tr>\n      <th>std</th>\n      <td>0.0</td>\n      <td>494317.964487</td>\n      <td>0.440119</td>\n      <td>0.575982</td>\n      <td>1.073745</td>\n      <td>1.328337</td>\n      <td>0.752461</td>\n      <td>0.505327</td>\n      <td>0.264526</td>\n      <td>0.348168</td>\n      <td>0.558346</td>\n      <td>0.816742</td>\n      <td>0.465454</td>\n      <td>0.143735</td>\n      <td>0.0</td>\n      <td>22.981359</td>\n      <td>760.323907</td>\n    </tr>\n    <tr>\n      <th>min</th>\n      <td>2010.0</td>\n      <td>0.000000</td>\n      <td>0.000000</td>\n      <td>0.000000</td>\n      <td>0.000000</td>\n      <td>1.000000</td>\n      <td>1.000000</td>\n      <td>0.000000</td>\n      <td>0.000000</td>\n      <td>0.000000</td>\n      <td>0.000000</td>\n      <td>0.000000</td>\n      <td>0.000000</td>\n      <td>0.000000</td>\n      <td>0.0</td>\n      <td>10.000000</td>\n      <td>0.000000</td>\n    </tr>\n    <tr>\n      <th>25%</th>\n      <td>2010.0</td>\n      <td>318.750000</td>\n      <td>0.000000</td>\n      <td>1.000000</td>\n      <td>0.000000</td>\n      <td>1.000000</td>\n      <td>2.000000</td>\n      <td>0.000000</td>\n      <td>0.000000</td>\n      <td>0.000000</td>\n      <td>0.000000</td>\n      <td>1.000000</td>\n      <td>0.000000</td>\n      <td>0.000000</td>\n      <td>0.0</td>\n      <td>80.000000</td>\n      <td>125.000000</td>\n    </tr>\n    <tr>\n      <th>50%</th>\n      <td>2010.0</td>\n      <td>999999.000000</td>\n      <td>0.000000</td>\n      <td>1.000000</td>\n      <td>0.000000</td>\n      <td>1.000000</td>\n      <td>2.000000</td>\n      <td>0.000000</td>\n      <td>0.000000</td>\n      <td>0.000000</td>\n      <td>0.000000</td>\n      <td>1.000000</td>\n      <td>0.000000</td>\n      <td>0.000000</td>\n      <td>0.0</td>\n      <td>100.000000</td>\n      <td>749.000000</td>\n    </tr>\n    <tr>\n      <th>75%</th>\n      <td>2010.0</td>\n      <td>999999.000000</td>\n      <td>0.000000</td>\n      <td>1.000000</td>\n      <td>1.000000</td>\n      <td>2.000000</td>\n      <td>2.000000</td>\n      <td>0.000000</td>\n      <td>0.000000</td>\n      <td>0.000000</td>\n      <td>1.000000</td>\n      <td>1.000000</td>\n      <td>0.000000</td>\n      <td>0.000000</td>\n      <td>0.0</td>\n      <td>100.000000</td>\n      <td>1538.250000</td>\n    </tr>\n    <tr>\n      <th>max</th>\n      <td>2010.0</td>\n      <td>999999.000000</td>\n      <td>4.000000</td>\n      <td>5.000000</td>\n      <td>13.000000</td>\n      <td>14.000000</td>\n      <td>8.000000</td>\n      <td>4.000000</td>\n      <td>2.000000</td>\n      <td>2.000000</td>\n      <td>6.000000</td>\n      <td>5.000000</td>\n      <td>6.000000</td>\n      <td>2.000000</td>\n      <td>0.0</td>\n      <td>120.000000</td>\n      <td>2359.000000</td>\n    </tr>\n  </tbody>\n</table>\n</div>",
                        "text/plain": "          any             pk      f_morts  f_ferits_greus  f_ferits_lleus  \\\ncount  1000.0    1000.000000  1000.000000     1000.000000     1000.000000   \nmean   2010.0  572623.259000     0.183000        1.024000        0.515000   \nstd       0.0  494317.964487     0.440119        0.575982        1.073745   \nmin    2010.0       0.000000     0.000000        0.000000        0.000000   \n25%    2010.0     318.750000     0.000000        1.000000        0.000000   \n50%    2010.0  999999.000000     0.000000        1.000000        0.000000   \n75%    2010.0  999999.000000     0.000000        1.000000        1.000000   \nmax    2010.0  999999.000000     4.000000        5.000000       13.000000   \n\n        f_victimes  f_unitats_implicades  f_vianants_implicades  \\\ncount  1000.000000           1000.000000            1000.000000   \nmean      1.722000              2.037000               0.270000   \nstd       1.328337              0.752461               0.505327   \nmin       1.000000              1.000000               0.000000   \n25%       1.000000              2.000000               0.000000   \n50%       1.000000              2.000000               0.000000   \n75%       2.000000              2.000000               0.000000   \nmax      14.000000              8.000000               4.000000   \n\n       f_bicicletes_implicades  f_ciclomotors_implicades  \\\ncount              1000.000000               1000.000000   \nmean                  0.064000                  0.130000   \nstd                   0.264526                  0.348168   \nmin                   0.000000                  0.000000   \n25%                   0.000000                  0.000000   \n50%                   0.000000                  0.000000   \n75%                   0.000000                  0.000000   \nmax                   2.000000                  2.000000   \n\n       f_motocicletes_implicades  f_veh_lleugers_implicades  \\\ncount                1000.000000                1000.000000   \nmean                    0.331000                   1.060000   \nstd                     0.558346                   0.816742   \nmin                     0.000000                   0.000000   \n25%                     0.000000                   1.000000   \n50%                     0.000000                   1.000000   \n75%                     1.000000                   1.000000   \nmax                     6.000000                   5.000000   \n\n       f_veh_pesants_implicades  f_altres_unit_implicades  \\\ncount               1000.000000               1000.000000   \nmean                   0.163000                  0.019000   \nstd                    0.465454                  0.143735   \nmin                    0.000000                  0.000000   \n25%                    0.000000                  0.000000   \n50%                    0.000000                  0.000000   \n75%                    0.000000                  0.000000   \nmax                    6.000000                  2.000000   \n\n       f_unit_desc_implicades  c_velocitat_via          hor  \ncount                  1000.0       879.000000  1000.000000  \nmean                      0.0        87.042093   840.776000  \nstd                       0.0        22.981359   760.323907  \nmin                       0.0        10.000000     0.000000  \n25%                       0.0        80.000000   125.000000  \n50%                       0.0       100.000000   749.000000  \n75%                       0.0       100.000000  1538.250000  \nmax                       0.0       120.000000  2359.000000  "
                    },
                    "execution_count": 5,
                    "metadata": {},
                    "output_type": "execute_result"
                }
            ],
            "source": "# Description of the dataframe\ndf.describe()"
        },
        {
            "cell_type": "markdown",
            "metadata": {},
            "source": "Size and shape of the dataframe"
        },
        {
            "cell_type": "code",
            "execution_count": 6,
            "metadata": {},
            "outputs": [
                {
                    "name": "stdout",
                    "output_type": "stream",
                    "text": "Dataset size is 58000\nDataset shape is (1000, 58)\n"
                }
            ],
            "source": "# Data size\nprint('Dataset size is', df.size)\n\n\n# Data shape\nprint('Dataset shape is', df.shape)"
        },
        {
            "cell_type": "markdown",
            "metadata": {},
            "source": "### 2.2. Data Cleaning <a name='dc'></a>"
        },
        {
            "cell_type": "markdown",
            "metadata": {},
            "source": "First we'll remove all the unnecessary columns"
        },
        {
            "cell_type": "code",
            "execution_count": 7,
            "metadata": {},
            "outputs": [
                {
                    "data": {
                        "text/html": "<div>\n<style scoped>\n    .dataframe tbody tr th:only-of-type {\n        vertical-align: middle;\n    }\n\n    .dataframe tbody tr th {\n        vertical-align: top;\n    }\n\n    .dataframe thead th {\n        text-align: right;\n    }\n</style>\n<table border=\"1\" class=\"dataframe\">\n  <thead>\n    <tr style=\"text-align: right;\">\n      <th></th>\n      <th>f_morts</th>\n      <th>f_ferits_greus</th>\n      <th>f_ferits_lleus</th>\n      <th>f_victimes</th>\n      <th>f_unitats_implicades</th>\n      <th>f_vianants_implicades</th>\n      <th>f_bicicletes_implicades</th>\n      <th>f_ciclomotors_implicades</th>\n      <th>f_motocicletes_implicades</th>\n      <th>f_veh_lleugers_implicades</th>\n      <th>...</th>\n      <th>d_sentits_via</th>\n      <th>d_subtipus_accident</th>\n      <th>d_subzona</th>\n      <th>d_superficie</th>\n      <th>d_tipus_via</th>\n      <th>d_tracat_altimetric</th>\n      <th>d_vent</th>\n      <th>grupdialab</th>\n      <th>gruphor</th>\n      <th>tipdia</th>\n    </tr>\n  </thead>\n  <tbody>\n    <tr>\n      <th>0</th>\n      <td>0</td>\n      <td>1</td>\n      <td>0</td>\n      <td>1</td>\n      <td>2</td>\n      <td>0</td>\n      <td>0</td>\n      <td>0</td>\n      <td>0</td>\n      <td>1</td>\n      <td>...</td>\n      <td>Un sol sentit</td>\n      <td>Encal\u00e7</td>\n      <td>Zona urbana</td>\n      <td>Sec i net</td>\n      <td>Via urbana( inclou carrer i carrer residencial)</td>\n      <td>NaN</td>\n      <td>Calma, vent molt suau</td>\n      <td>Feiners</td>\n      <td>Nit</td>\n      <td>dill-dij</td>\n    </tr>\n    <tr>\n      <th>1</th>\n      <td>0</td>\n      <td>1</td>\n      <td>3</td>\n      <td>4</td>\n      <td>1</td>\n      <td>0</td>\n      <td>0</td>\n      <td>0</td>\n      <td>0</td>\n      <td>1</td>\n      <td>...</td>\n      <td>Doble sentit</td>\n      <td>Resta sortides de via</td>\n      <td>Carretera</td>\n      <td>Sec i net</td>\n      <td>Carretera convencional</td>\n      <td>Pla</td>\n      <td>Calma, vent molt suau</td>\n      <td>CapDeSetmana</td>\n      <td>Nit</td>\n      <td>dg</td>\n    </tr>\n    <tr>\n      <th>2</th>\n      <td>1</td>\n      <td>0</td>\n      <td>2</td>\n      <td>3</td>\n      <td>4</td>\n      <td>0</td>\n      <td>0</td>\n      <td>0</td>\n      <td>0</td>\n      <td>2</td>\n      <td>...</td>\n      <td>Doble sentit</td>\n      <td>Col\u00b7lisi\u00f3 frontal</td>\n      <td>Carretera</td>\n      <td>Sec i net</td>\n      <td>Carretera convencional</td>\n      <td>Rampa o pendent</td>\n      <td>Calma, vent molt suau</td>\n      <td>Feiners</td>\n      <td>Tarda</td>\n      <td>dill-dij</td>\n    </tr>\n    <tr>\n      <th>3</th>\n      <td>0</td>\n      <td>2</td>\n      <td>7</td>\n      <td>9</td>\n      <td>2</td>\n      <td>0</td>\n      <td>0</td>\n      <td>0</td>\n      <td>0</td>\n      <td>2</td>\n      <td>...</td>\n      <td>Un sol sentit</td>\n      <td>Envestida (frontal lateral)</td>\n      <td>Zona urbana</td>\n      <td>Sec i net</td>\n      <td>Via urbana( inclou carrer i carrer residencial)</td>\n      <td>NaN</td>\n      <td>Calma, vent molt suau</td>\n      <td>CapDeSetmana</td>\n      <td>Nit</td>\n      <td>dis</td>\n    </tr>\n    <tr>\n      <th>4</th>\n      <td>0</td>\n      <td>1</td>\n      <td>0</td>\n      <td>1</td>\n      <td>1</td>\n      <td>0</td>\n      <td>0</td>\n      <td>0</td>\n      <td>1</td>\n      <td>0</td>\n      <td>...</td>\n      <td>Un sol sentit</td>\n      <td>Caiguda en la via</td>\n      <td>Zona urbana</td>\n      <td>Sec i net</td>\n      <td>Via urbana( inclou carrer i carrer residencial)</td>\n      <td>NaN</td>\n      <td>Calma, vent molt suau</td>\n      <td>CapDeSetmana</td>\n      <td>Tarda</td>\n      <td>div</td>\n    </tr>\n  </tbody>\n</table>\n<p>5 rows \u00d7 36 columns</p>\n</div>",
                        "text/plain": "   f_morts  f_ferits_greus  f_ferits_lleus  f_victimes  f_unitats_implicades  \\\n0        0               1               0           1                     2   \n1        0               1               3           4                     1   \n2        1               0               2           3                     4   \n3        0               2               7           9                     2   \n4        0               1               0           1                     1   \n\n   f_vianants_implicades  f_bicicletes_implicades  f_ciclomotors_implicades  \\\n0                      0                        0                         0   \n1                      0                        0                         0   \n2                      0                        0                         0   \n3                      0                        0                         0   \n4                      0                        0                         0   \n\n   f_motocicletes_implicades  f_veh_lleugers_implicades  ...  d_sentits_via  \\\n0                          0                          1  ...  Un sol sentit   \n1                          0                          1  ...   Doble sentit   \n2                          0                          2  ...   Doble sentit   \n3                          0                          2  ...  Un sol sentit   \n4                          1                          0  ...  Un sol sentit   \n\n           d_subtipus_accident    d_subzona  d_superficie  \\\n0                       Encal\u00e7  Zona urbana     Sec i net   \n1        Resta sortides de via    Carretera     Sec i net   \n2            Col\u00b7lisi\u00f3 frontal    Carretera     Sec i net   \n3  Envestida (frontal lateral)  Zona urbana     Sec i net   \n4            Caiguda en la via  Zona urbana     Sec i net   \n\n                                       d_tipus_via d_tracat_altimetric  \\\n0  Via urbana( inclou carrer i carrer residencial)                 NaN   \n1                           Carretera convencional                 Pla   \n2                           Carretera convencional     Rampa o pendent   \n3  Via urbana( inclou carrer i carrer residencial)                 NaN   \n4  Via urbana( inclou carrer i carrer residencial)                 NaN   \n\n                  d_vent    grupdialab gruphor    tipdia  \n0  Calma, vent molt suau       Feiners     Nit  dill-dij  \n1  Calma, vent molt suau  CapDeSetmana     Nit        dg  \n2  Calma, vent molt suau       Feiners   Tarda  dill-dij  \n3  Calma, vent molt suau  CapDeSetmana     Nit       dis  \n4  Calma, vent molt suau  CapDeSetmana   Tarda       div  \n\n[5 rows x 36 columns]"
                    },
                    "execution_count": 7,
                    "metadata": {},
                    "output_type": "execute_result"
                }
            ],
            "source": "# Drop unnecesary columns\ndf.drop(columns = ['any', 'pk', 'nomdem', 'nomcom', 'dat', 'd_gravetat', 'hor', 'nommun', 'd_subtipus_tram', 'tipacc', 'zona', 'd_titularitat_via', 'via', 'd_acc_amb_fuga', 'd_influit_boira',\n                  'd_influit_caract_entorn', 'd_influit_circulacio', 'd_influit_estat_clima', 'd_influit_inten_vent', 'd_influit_lluminositat', 'd_influit_mesu_esp', 'd_influit_visibilitat'], inplace = True)\ndf.head()"
        },
        {
            "cell_type": "markdown",
            "metadata": {},
            "source": "Now we'll see the size and shape of the new dataframe"
        },
        {
            "cell_type": "code",
            "execution_count": 8,
            "metadata": {},
            "outputs": [
                {
                    "name": "stdout",
                    "output_type": "stream",
                    "text": "New dataset size is 36000\nNew dataset shape is (1000, 36)\n"
                }
            ],
            "source": "# New data size\nprint('New dataset size is', df.size)\n\n\n# New data shape\nprint('New dataset shape is', df.shape)"
        },
        {
            "cell_type": "markdown",
            "metadata": {},
            "source": "Now we'll translate the name of the columns to english for a better understanding"
        },
        {
            "cell_type": "code",
            "execution_count": 9,
            "metadata": {
                "scrolled": true
            },
            "outputs": [
                {
                    "data": {
                        "text/html": "<div>\n<style scoped>\n    .dataframe tbody tr th:only-of-type {\n        vertical-align: middle;\n    }\n\n    .dataframe tbody tr th {\n        vertical-align: top;\n    }\n\n    .dataframe thead th {\n        text-align: right;\n    }\n</style>\n<table border=\"1\" class=\"dataframe\">\n  <thead>\n    <tr style=\"text-align: right;\">\n      <th></th>\n      <th>deaths</th>\n      <th>major_injuries</th>\n      <th>minor_injuries</th>\n      <th>total_victims</th>\n      <th>involved_vehicle(s)</th>\n      <th>involved_pedestrian(s)</th>\n      <th>involved_bycicle(s)</th>\n      <th>involved_moped(s)</th>\n      <th>involved_motorcycle(s)</th>\n      <th>light_vehicle(s)_involved</th>\n      <th>...</th>\n      <th>directions</th>\n      <th>type of accident</th>\n      <th>zone</th>\n      <th>road_condition</th>\n      <th>road_type</th>\n      <th>altimeter_layout</th>\n      <th>wind</th>\n      <th>day_type</th>\n      <th>moment</th>\n      <th>day_of_week</th>\n    </tr>\n  </thead>\n  <tbody>\n    <tr>\n      <th>0</th>\n      <td>0</td>\n      <td>1</td>\n      <td>0</td>\n      <td>1</td>\n      <td>2</td>\n      <td>0</td>\n      <td>0</td>\n      <td>0</td>\n      <td>0</td>\n      <td>1</td>\n      <td>...</td>\n      <td>Un sol sentit</td>\n      <td>Encal\u00e7</td>\n      <td>Zona urbana</td>\n      <td>Sec i net</td>\n      <td>Via urbana( inclou carrer i carrer residencial)</td>\n      <td>NaN</td>\n      <td>Calma, vent molt suau</td>\n      <td>Feiners</td>\n      <td>Nit</td>\n      <td>dill-dij</td>\n    </tr>\n    <tr>\n      <th>1</th>\n      <td>0</td>\n      <td>1</td>\n      <td>3</td>\n      <td>4</td>\n      <td>1</td>\n      <td>0</td>\n      <td>0</td>\n      <td>0</td>\n      <td>0</td>\n      <td>1</td>\n      <td>...</td>\n      <td>Doble sentit</td>\n      <td>Resta sortides de via</td>\n      <td>Carretera</td>\n      <td>Sec i net</td>\n      <td>Carretera convencional</td>\n      <td>Pla</td>\n      <td>Calma, vent molt suau</td>\n      <td>CapDeSetmana</td>\n      <td>Nit</td>\n      <td>dg</td>\n    </tr>\n    <tr>\n      <th>2</th>\n      <td>1</td>\n      <td>0</td>\n      <td>2</td>\n      <td>3</td>\n      <td>4</td>\n      <td>0</td>\n      <td>0</td>\n      <td>0</td>\n      <td>0</td>\n      <td>2</td>\n      <td>...</td>\n      <td>Doble sentit</td>\n      <td>Col\u00b7lisi\u00f3 frontal</td>\n      <td>Carretera</td>\n      <td>Sec i net</td>\n      <td>Carretera convencional</td>\n      <td>Rampa o pendent</td>\n      <td>Calma, vent molt suau</td>\n      <td>Feiners</td>\n      <td>Tarda</td>\n      <td>dill-dij</td>\n    </tr>\n    <tr>\n      <th>3</th>\n      <td>0</td>\n      <td>2</td>\n      <td>7</td>\n      <td>9</td>\n      <td>2</td>\n      <td>0</td>\n      <td>0</td>\n      <td>0</td>\n      <td>0</td>\n      <td>2</td>\n      <td>...</td>\n      <td>Un sol sentit</td>\n      <td>Envestida (frontal lateral)</td>\n      <td>Zona urbana</td>\n      <td>Sec i net</td>\n      <td>Via urbana( inclou carrer i carrer residencial)</td>\n      <td>NaN</td>\n      <td>Calma, vent molt suau</td>\n      <td>CapDeSetmana</td>\n      <td>Nit</td>\n      <td>dis</td>\n    </tr>\n    <tr>\n      <th>4</th>\n      <td>0</td>\n      <td>1</td>\n      <td>0</td>\n      <td>1</td>\n      <td>1</td>\n      <td>0</td>\n      <td>0</td>\n      <td>0</td>\n      <td>1</td>\n      <td>0</td>\n      <td>...</td>\n      <td>Un sol sentit</td>\n      <td>Caiguda en la via</td>\n      <td>Zona urbana</td>\n      <td>Sec i net</td>\n      <td>Via urbana( inclou carrer i carrer residencial)</td>\n      <td>NaN</td>\n      <td>Calma, vent molt suau</td>\n      <td>CapDeSetmana</td>\n      <td>Tarda</td>\n      <td>div</td>\n    </tr>\n  </tbody>\n</table>\n<p>5 rows \u00d7 36 columns</p>\n</div>",
                        "text/plain": "   deaths  major_injuries  minor_injuries  total_victims  involved_vehicle(s)  \\\n0       0               1               0              1                    2   \n1       0               1               3              4                    1   \n2       1               0               2              3                    4   \n3       0               2               7              9                    2   \n4       0               1               0              1                    1   \n\n   involved_pedestrian(s)  involved_bycicle(s)  involved_moped(s)  \\\n0                       0                    0                  0   \n1                       0                    0                  0   \n2                       0                    0                  0   \n3                       0                    0                  0   \n4                       0                    0                  0   \n\n   involved_motorcycle(s)  light_vehicle(s)_involved  ...     directions  \\\n0                       0                          1  ...  Un sol sentit   \n1                       0                          1  ...   Doble sentit   \n2                       0                          2  ...   Doble sentit   \n3                       0                          2  ...  Un sol sentit   \n4                       1                          0  ...  Un sol sentit   \n\n              type of accident         zone  road_condition  \\\n0                       Encal\u00e7  Zona urbana       Sec i net   \n1        Resta sortides de via    Carretera       Sec i net   \n2            Col\u00b7lisi\u00f3 frontal    Carretera       Sec i net   \n3  Envestida (frontal lateral)  Zona urbana       Sec i net   \n4            Caiguda en la via  Zona urbana       Sec i net   \n\n                                         road_type altimeter_layout  \\\n0  Via urbana( inclou carrer i carrer residencial)              NaN   \n1                           Carretera convencional              Pla   \n2                           Carretera convencional  Rampa o pendent   \n3  Via urbana( inclou carrer i carrer residencial)              NaN   \n4  Via urbana( inclou carrer i carrer residencial)              NaN   \n\n                    wind      day_type moment day_of_week  \n0  Calma, vent molt suau       Feiners    Nit    dill-dij  \n1  Calma, vent molt suau  CapDeSetmana    Nit          dg  \n2  Calma, vent molt suau       Feiners  Tarda    dill-dij  \n3  Calma, vent molt suau  CapDeSetmana    Nit         dis  \n4  Calma, vent molt suau  CapDeSetmana  Tarda         div  \n\n[5 rows x 36 columns]"
                    },
                    "execution_count": 9,
                    "metadata": {},
                    "output_type": "execute_result"
                }
            ],
            "source": "df.rename(columns = {'f_morts':'deaths', 'f_ferits_greus':'major_injuries', 'f_ferits_lleus':'minor_injuries', 'f_victimes':'total_victims', 'f_unitats_implicades':'involved_vehicle(s)',\n                     'f_vianants_implicades':'involved_pedestrian(s)', 'f_bicicletes_implicades':'involved_bycicle(s)', 'f_ciclomotors_implicades':'involved_moped(s)',\n                     'f_motocicletes_implicades':'involved_motorcycle(s)', 'f_veh_lleugers_implicades':'light_vehicle(s)_involved', 'f_veh_pesants_implicades':'heavy_vehicle(s)_involved', \n                     'f_altres_unit_implicades':'other_type_unit_involved', 'f_unit_desc_implicades':'unknown_unit_involved', 'c_velocitat_via':'maximun_allowed_speed', 'd_boira':'haze',\n                     'd_caract_entorn':'terrain_characteristics', 'd_carril_especial':'special_lane', 'd_circulacio_mesures_esp':'special_traffic_measures', 'd_climatologia':'climatology',\n                     'd_func_esp_via':'special_function_track', 'd_influit_obj_calcada':'object_on_way', 'd_influit_solcs_rases':'f/d_in_road', 'd_inter_seccio':'intersection',\n                     'd_limit_velocitat':'speed_limit_visualization', 'd_lluminositat':'illumination', 'd_regulacio_prioritat':'priority_regulation', 'd_sentits_via':'directions',\n                     'd_subtipus_accident':'type of accident', 'd_subzona':'zone', 'd_superficie':'road_condition', 'd_tipus_via':'road_type', 'd_tracat_altimetric':'altimeter_layout',\n                     'd_vent':'wind', 'grupdialab':'day_type', 'gruphor':'moment', 'tipdia':'day_of_week'}, inplace = True)\n# f/d = furrows and ditches\n\n\n\n# Display the first rows on wwith the new column names\ndf.head()"
        },
        {
            "cell_type": "code",
            "execution_count": 10,
            "metadata": {},
            "outputs": [
                {
                    "data": {
                        "text/plain": "deaths                         int64\nmajor_injuries                 int64\nminor_injuries                 int64\ntotal_victims                  int64\ninvolved_vehicle(s)            int64\ninvolved_pedestrian(s)         int64\ninvolved_bycicle(s)            int64\ninvolved_moped(s)              int64\ninvolved_motorcycle(s)         int64\nlight_vehicle(s)_involved      int64\nheavy_vehicle(s)_involved      int64\nother_type_unit_involved       int64\nunknown_unit_involved          int64\nmaximun_allowed_speed        float64\nhaze                          object\nterrain_characteristics       object\nspecial_lane                  object\nspecial_traffic_measures      object\nclimatology                   object\nspecial_function_track        object\nobject_on_way                 object\nf/d_in_road                   object\nintersection                  object\nspeed_limit_visualization     object\nillumination                  object\npriority_regulation           object\ndirections                    object\ntype of accident              object\nzone                          object\nroad_condition                object\nroad_type                     object\naltimeter_layout              object\nwind                          object\nday_type                      object\nmoment                        object\nday_of_week                   object\ndtype: object"
                    },
                    "execution_count": 10,
                    "metadata": {},
                    "output_type": "execute_result"
                }
            ],
            "source": "# Type of objects on each column\ndf.dtypes"
        },
        {
            "cell_type": "markdown",
            "metadata": {},
            "source": "#### The next to do is convert all the values into numericall values."
        },
        {
            "cell_type": "markdown",
            "metadata": {},
            "source": "We'll start converting values in column 'haze', this column has only two inputs of type object, 'No n'hi ha' and 'Si'; they're transformed to int values"
        },
        {
            "cell_type": "code",
            "execution_count": 11,
            "metadata": {},
            "outputs": [],
            "source": "# Replace values in column 'haze'\n# No n'hi ha = no, replaced by 0\n# si = yes, replaced by 1\ndf['haze'].replace([\"No n'hi ha\", \"Si\"], [0, 1], inplace = True)\n\n\n# Transform values in terrain_characteristics to int64\n# As the 'Sense Especificar' value means that there are not special characteristics, this one will have the value of 0\n# 'A nivel' = At the level, replaced by 1\n# 'Desmunt' = disassemble, replaced by 2\n# 'Mixt' = mixed, replaced by 3\n# 'Sense Especificar' = Unknown (No special characteristics), replaced by 0\n# 'Terrapl\u00e9' = embankment, replaced by 4\ndf['terrain_characteristics'].replace([\"Sense Especificar\", \"A nivell\", \"Desmunt\", \"Mixt\", \"Terrapl\u00e9\"], [0, 1, 2, 3, 4], inplace = True)\n\n\n\ndf['special_lane'].replace([\"Sense Especificar\", \"No n'hi ha\", \"Altres\", \"Carril acceleraci\u00f3\", \"Carril avan\u00e7ament\", \"Carril bici\", \"Carril bus\", \"Carril central\", \"Carril d'alentiment\",\n                            \"Carril habilitat en sentit contrari habitual\", \"Carril lent\", \"Carril reversible\", \"Habilitaci\u00f3 voral/carril addicional\"], [0, 1, 2, 3, 4, 5, 6, 7, 8, 9, 10, 11, 12],\n                            inplace = True)"
        },
        {
            "cell_type": "code",
            "execution_count": 12,
            "metadata": {},
            "outputs": [
                {
                    "data": {
                        "text/plain": "deaths                         int64\nmajor_injuries                 int64\nminor_injuries                 int64\ntotal_victims                  int64\ninvolved_vehicle(s)            int64\ninvolved_pedestrian(s)         int64\ninvolved_bycicle(s)            int64\ninvolved_moped(s)              int64\ninvolved_motorcycle(s)         int64\nlight_vehicle(s)_involved      int64\nheavy_vehicle(s)_involved      int64\nother_type_unit_involved       int64\nunknown_unit_involved          int64\nmaximun_allowed_speed        float64\nhaze                           int64\nterrain_characteristics        int64\nspecial_lane                   int64\nspecial_traffic_measures      object\nclimatology                   object\nspecial_function_track        object\nobject_on_way                 object\nf/d_in_road                   object\nintersection                  object\nspeed_limit_visualization     object\nillumination                  object\npriority_regulation           object\ndirections                    object\ntype of accident              object\nzone                          object\nroad_condition                object\nroad_type                     object\naltimeter_layout              object\nwind                          object\nday_type                      object\nmoment                        object\nday_of_week                   object\ndtype: object"
                    },
                    "execution_count": 12,
                    "metadata": {},
                    "output_type": "execute_result"
                }
            ],
            "source": "df.dtypes"
        },
        {
            "cell_type": "code",
            "execution_count": null,
            "metadata": {},
            "outputs": [],
            "source": ""
        }
    ],
    "metadata": {
        "kernelspec": {
            "display_name": "Python 3.6",
            "language": "python",
            "name": "python3"
        },
        "language_info": {
            "codemirror_mode": {
                "name": "ipython",
                "version": 3
            },
            "file_extension": ".py",
            "mimetype": "text/x-python",
            "name": "python",
            "nbconvert_exporter": "python",
            "pygments_lexer": "ipython3",
            "version": "3.6.9"
        }
    },
    "nbformat": 4,
    "nbformat_minor": 4
}