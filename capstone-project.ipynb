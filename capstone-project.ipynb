{
 "cells": [
  {
   "cell_type": "markdown",
   "metadata": {},
   "source": [
    "# Capstone project - severity of car accidents in Catalonia between 2010 and 2020\n",
    "## Applied data science capstone/ IBM "
   ]
  },
  {
   "cell_type": "code",
   "execution_count": 1,
   "metadata": {},
   "outputs": [],
   "source": [
    "import pandas as pd\n",
    "import numpy as np"
   ]
  },
  {
   "cell_type": "code",
   "execution_count": 3,
   "metadata": {},
   "outputs": [
    {
     "name": "stdout",
     "output_type": "stream",
     "text": [
      "--2020-08-30 06:44:03--  https://analisi.transparenciacatalunya.cat/resource/rmgc-ncpb.csv\n",
      "Resolving analisi.transparenciacatalunya.cat (analisi.transparenciacatalunya.cat)... 52.51.221.164, 52.16.222.96, 52.16.175.47\n",
      "Connecting to analisi.transparenciacatalunya.cat (analisi.transparenciacatalunya.cat)|52.51.221.164|:443... connected.\n",
      "HTTP request sent, awaiting response... 200 OK\n",
      "Length: unspecified [text/csv]\n",
      "Saving to: ‘traffic_accidents.csv’\n",
      "\n",
      "    [   <=>                                 ] 614,365     1.19MB/s   in 0.5s   \n",
      "\n",
      "2020-08-30 06:44:05 (1.19 MB/s) - ‘traffic_accidents.csv’ saved [614365]\n",
      "\n"
     ]
    }
   ],
   "source": [
    "# get the data\n",
    "!wget -O traffic_accidents.csv https://analisi.transparenciacatalunya.cat/resource/rmgc-ncpb.csv"
   ]
  },
  {
   "cell_type": "code",
   "execution_count": null,
   "metadata": {},
   "outputs": [],
   "source": []
  }
 ],
 "metadata": {
  "kernelspec": {
   "display_name": "Python 3",
   "language": "python",
   "name": "python3"
  },
  "language_info": {
   "codemirror_mode": {
    "name": "ipython",
    "version": 3
   },
   "file_extension": ".py",
   "mimetype": "text/x-python",
   "name": "python",
   "nbconvert_exporter": "python",
   "pygments_lexer": "ipython3",
   "version": "3.7.6"
  }
 },
 "nbformat": 4,
 "nbformat_minor": 4
}
